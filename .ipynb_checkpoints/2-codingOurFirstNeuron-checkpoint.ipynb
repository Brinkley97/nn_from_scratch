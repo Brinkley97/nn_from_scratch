{
 "cells": [
  {
   "cell_type": "markdown",
   "id": "2fe30475",
   "metadata": {},
   "source": [
    "# Chapter 2 - Coding Our First Neurons w/ Headings\n",
    "\n",
    "- P 25 - 58\n",
    "\n",
    "---\n",
    "\n",
    "## A Single Neuron (as the Output)\n",
    "\n",
    "## A Layer of Neurons\n",
    "\n",
    "## Tensors, Arrays, Vectors\n",
    "\n",
    "## Dot Product and Vector Addition\n",
    "\n",
    "## A Single Neuron w/ Numpy\n",
    "\n",
    "## A Layer of Neurons w/ Numpy\n",
    "\n",
    "## A Batch of Data\n",
    "\n",
    "## Matrix Product\n",
    "\n",
    "## Transposition for the Matrix Product\n",
    "\n",
    "## A Layer of Neurons and Batch of Data\n",
    "\n",
    "---"
   ]
  },
  {
   "cell_type": "markdown",
   "id": "c2afe5c3",
   "metadata": {},
   "source": [
    "## A Single Neuron (as the Output)\n",
    "\n",
    "- inputs (x) [pass into the model to get desired outputs]\n",
    "    - can be actual training data or data from a previous layer\n",
    "        \n",
    "- params [change/tune model to get these results]\n",
    "    1. weights (w) are typically randomly initialized\n",
    "    2. bias (b) is typically set to 0 & 1 per neuron\n",
    "    \n",
    "- output (h1) [combo of sum over all (x * w) + b]\n",
    "    - h1 : reps the output of the 1st hidden layer"
   ]
  },
  {
   "cell_type": "markdown",
   "id": "65066070-398b-48ba-b515-a35a759d0cee",
   "metadata": {},
   "source": [
    "### Ex 1\n",
    "    \n",
    "- w/ a single neuron (as the output) \n",
    "    - #x = 3\n",
    "    - #w = 3 for each x\n",
    "    - #b = 1 \n",
    "    - #h1 = 1\n",
    "    \n",
    "<center> <img src = \"figures/2.1.jpeg\" width = \"300\"> </center>"
   ]
  },
  {
   "cell_type": "code",
   "execution_count": 24,
   "id": "43b1f39b",
   "metadata": {},
   "outputs": [
    {
     "name": "stdout",
     "output_type": "stream",
     "text": [
      "x :  [1.0, 2.0, 3.0]\n",
      "w :  [0.2, 0.8, -0.5]\n",
      "x_w :  0.30000000000000004\n",
      "b :  2.0\n",
      "h1 :  2.3\n"
     ]
    }
   ],
   "source": [
    "x = [1.0, 2.0, 3.0]\n",
    "print(\"x : \", x)\n",
    "\n",
    "w = [0.2, 0.8, -0.5]\n",
    "print(\"w : \", w)\n",
    "\n",
    "x_w = (\n",
    "        x[0]*w[0] +\n",
    "        x[1]*w[1] +\n",
    "        x[2]*w[2]\n",
    "       )\n",
    "print(\"x_w : \", x_w)\n",
    "\n",
    "b = 2.0\n",
    "print(\"b : \", b)\n",
    "\n",
    "h1 = x_w + b\n",
    "print(\"h1 : \", h1)"
   ]
  },
  {
   "cell_type": "markdown",
   "id": "fd5eb9d2-4d48-4a5f-a62d-d88d8e07d0ff",
   "metadata": {},
   "source": [
    "### Ex 2\n",
    "    \n",
    "- w/ a single neuron (as the output)\n",
    "    - #x = 4\n",
    "    - #w = 4 for each x\n",
    "    - #b = 1 \n",
    "    - #h1 = 1\n",
    "    \n",
    "<center> <img src = \"figures/2.2-2.3.jpeg\" width = \"300\"> </center>"
   ]
  },
  {
   "cell_type": "code",
   "execution_count": 26,
   "id": "d3734281",
   "metadata": {},
   "outputs": [
    {
     "name": "stdout",
     "output_type": "stream",
     "text": [
      "x :  [1.0, 2.0, 3.0, 2.5]\n",
      "w :  [0.2, 0.8, -0.5, 1.0]\n",
      "x_w :  2.8\n",
      "b :  2.0\n",
      "4.8\n"
     ]
    }
   ],
   "source": [
    "x = [1.0, 2.0, 3.0, 2.5]\n",
    "print(\"x : \", x)\n",
    "\n",
    "w = [0.2, 0.8, -0.5, 1.0]\n",
    "print(\"w : \", w)\n",
    "\n",
    "x_w = (\n",
    "        x[0]*w[0] +\n",
    "        x[1]*w[1] +\n",
    "        x[2]*w[2] +\n",
    "        x[3]*w[3]\n",
    "        )\n",
    "print(\"x_w : \", x_w)\n",
    "\n",
    "b = 2.0\n",
    "print(\"b : \", b)\n",
    "\n",
    "h1 = x_w + b\n",
    "print(h1)"
   ]
  },
  {
   "cell_type": "markdown",
   "id": "4c297322",
   "metadata": {},
   "source": [
    "---\n",
    "\n",
    "## A Layer of Neurons (as the Output)\n",
    "\n",
    "- fully connected neural network [every neuron in the current layer has connections to every neuron from the previous layer]\n",
    "\n",
    "- there is no requirement to fully connect everything like the ex below\n"
   ]
  },
  {
   "cell_type": "markdown",
   "id": "3912794a-6566-48d3-ba55-4a8373c9eec7",
   "metadata": {},
   "source": [
    "### Ex 1a w/ out loop\n",
    "\n",
    "- w/ multiple neurons (as the output)\n",
    "    - #x = 4 x 1\n",
    "    - #w = 3 x 4\n",
    "    - #b = 3\n",
    "    - #h = 3\n",
    "    \n",
    "<center> <img src = \"figures/2.4.jpeg\" width = \"300\"> </center>"
   ]
  },
  {
   "cell_type": "code",
   "execution_count": 32,
   "id": "55cda6d9",
   "metadata": {},
   "outputs": [
    {
     "name": "stdout",
     "output_type": "stream",
     "text": [
      "x_w1 :  2.8\n",
      "h11 :  4.8\n",
      "x_w2 :  -1.79\n",
      "h12 :  1.21\n",
      "x_w3 :  1.8849999999999998\n",
      "h13 :  2.385\n"
     ]
    }
   ],
   "source": [
    "x = [1, 2, 3, 2.5]\n",
    "\n",
    "#### START OF h11 #### \n",
    "w1 = [0.2, 0.8, -0.5, 1]\n",
    "\n",
    "b1 = 2\n",
    "\n",
    "x_w1 = (\n",
    "        x[0]*w1[0] +\n",
    "        x[1]*w1[1] +\n",
    "        x[2]*w1[2] +\n",
    "        x[3]*w1[3]\n",
    "        )\n",
    "print(\"x_w1 : \", x_w1)\n",
    "\n",
    "h11 = x_w1 + b1\n",
    "print(\"h11 : \", h11)\n",
    "#### END OF h11 #### \n",
    "\n",
    "#### START OF h12 ####\n",
    "w2 = [0.5, -0.91, 0.26, -0.5]\n",
    "\n",
    "b2 = 3\n",
    "\n",
    "x_w2 = (\n",
    "        x[0]*w2[0] +\n",
    "        x[1]*w2[1] +\n",
    "        x[2]*w2[2] +\n",
    "        x[3]*w2[3]\n",
    "        )\n",
    "print(\"x_w2 : \", x_w2)\n",
    "\n",
    "h12 = x_w2 + b2\n",
    "print(\"h12 : \", h12)\n",
    "#### END OF h12 ####\n",
    "\n",
    "\n",
    "#### START OF h13 ####\n",
    "w3 = [-0.26, -0.27, 0.17, 0.87]\n",
    "\n",
    "b3 = 0.5\n",
    "\n",
    "x_w3 = (\n",
    "        x[0]*w3[0] +\n",
    "        x[1]*w3[1] +\n",
    "        x[2]*w3[2] +\n",
    "        x[3]*w3[3]\n",
    "        )\n",
    "print(\"x_w3 : \", x_w3)\n",
    "\n",
    "h13 = x_w3 + b3\n",
    "print(\"h13 : \", h13)\n",
    "#### END OF h13 ####\n"
   ]
  },
  {
   "cell_type": "markdown",
   "id": "f847a8ee-dc40-4316-ab5f-bf9a10ea0ae7",
   "metadata": {},
   "source": [
    "### Ex 1b w/ loop\n",
    "\n",
    "- w/ multiple neurons (as the output)\n",
    "    - #x = 4 x 1\n",
    "    - #w = 3 x 4\n",
    "    - #b = 3\n",
    "    - #h = 3\n",
    "    \n",
    "- loop : use py's zip func; see ex [here](https://github.com/Brinkley97/random_code/blob/main/zipFuntionWithExamples.ipynb)\n",
    "    - my loop diffs from the book's"
   ]
  },
  {
   "cell_type": "code",
   "execution_count": 113,
   "id": "cdaa697d",
   "metadata": {},
   "outputs": [
    {
     "name": "stdout",
     "output_type": "stream",
     "text": [
      "h_list :  [4.8, 1.21, 2.385]\n"
     ]
    }
   ],
   "source": [
    "xs = [1, 2, 3, 2.5]\n",
    "\n",
    "# ws for all the weights\n",
    "ws = [\n",
    "            [0.2, 0.8, -0.5, 1],\n",
    "            [0.5, -0.91, 0.26, -0.5],\n",
    "            [-0.26, -0.27, 0.17, 0.87]\n",
    "            ]\n",
    "\n",
    "b = [2, 3, 0.5]\n",
    "\n",
    "# output of current layer\n",
    "x_w_list = []\n",
    "h_list= []\n",
    "\n",
    "\n",
    "# wts is a var name for all the weights (ws)\n",
    "for wts, b in zip(ws, b) :\n",
    "    \n",
    "    # Zeroed output of given neuron\n",
    "    b_to_output = 0\n",
    "    \n",
    "    # print(\"wts : \", wts)\n",
    "    # print(\"b : \", b)\n",
    "    \n",
    "    # get x w/ cooresponding w\n",
    "    for x, w in zip(xs, wts) :\n",
    "        \n",
    "        # print(\"x : \", x)\n",
    "        # print(\"w : \", w)\n",
    "        \n",
    "        x_w = x * w\n",
    "        x_w_list.append(x_w)\n",
    "        # print(\"x_w_list : \", x_w_list)\n",
    "        \n",
    "    x_ws = np.sum(x_w_list)\n",
    "    # print(\"x_ws : \", x_ws)\n",
    "    \n",
    "    # print(\"b : \", b)\n",
    "    h = x_ws + b\n",
    "    # print(\"h : \", h)\n",
    "    \n",
    "#     add h to h_list\n",
    "    h_list.append(h)\n",
    "    # print(h_list)\n",
    "    \n",
    "#     empty list to start next x_w\n",
    "    x_w_list = []\n",
    "\n",
    "print(\"h_list : \", h_list)"
   ]
  },
  {
   "cell_type": "code",
   "execution_count": null,
   "id": "adc19b20",
   "metadata": {},
   "outputs": [],
   "source": []
  }
 ],
 "metadata": {
  "kernelspec": {
   "display_name": "Python 3",
   "language": "python",
   "name": "python3"
  },
  "language_info": {
   "codemirror_mode": {
    "name": "ipython",
    "version": 3
   },
   "file_extension": ".py",
   "mimetype": "text/x-python",
   "name": "python",
   "nbconvert_exporter": "python",
   "pygments_lexer": "ipython3",
   "version": "3.7.5"
  }
 },
 "nbformat": 4,
 "nbformat_minor": 5
}

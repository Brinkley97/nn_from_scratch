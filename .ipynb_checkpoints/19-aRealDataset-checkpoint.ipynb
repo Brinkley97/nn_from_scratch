{
 "cells": [
  {
   "cell_type": "markdown",
   "id": "a1bed86b-9a42-4c42-aad8-2879c79cd642",
   "metadata": {},
   "source": [
    "# A Real Dataset\n",
    "- Fashion MNIST dataset\n",
    "    - Training samples = 60,000 \n",
    "    - Testing samples = 10,000\n",
    "    - Sample size = 28x28\n",
    "    - #classes = 10 w/ each being a different clothing item\n",
    "    - Samples per class = 6,000 which balances the dataset\n",
    "- Common : \n",
    "    - Grayscale (go from 3-channel RGB values per pixel to a single Black to white range of 0 - 255 per px)\n",
    "    - Reisize images to normalize their dimensions\n",
    "    \n",
    "    \n",
    "- Notes\n",
    "    - If dataset isn't already balanced, the NN $\\rightarrow$ biased to predict the class containing the most images. NN fundamentally seek out the steepest and quickest gradient descent to decrease loss, which might lead to a local minimum making the model unable to find the global loss minimum. May be best to trim samples from high-frequency classes in dataset. Other solutions are to 1) use class weights which needs to be validated in practice, 2) augment samples - crop, rotate, flip, etc.\n",
    "---"
   ]
  },
  {
   "cell_type": "markdown",
   "id": "e9f52918-df05-48e1-b5e8-492d281c8330",
   "metadata": {},
   "source": [
    "---\n",
    "## Data prep\n",
    "- Get from nnfs.io site\n",
    "- All CAPITAL VARIABLES bc in Python, these are CONSTANTS (formally known as IMMUTABLE)\n",
    "- pypi (bc they throw errors w/ conda installation) see w/ conda list : \n",
    "    - matplotlib=3.5.2\n",
    "    - numpy=1.21.6\n",
    "    - opencv-python=4.5.5.64\n",
    "    - pillow=9.1.0"
   ]
  },
  {
   "cell_type": "code",
   "execution_count": 1,
   "id": "f47437f8-621d-4cfc-a0c4-d775077fe788",
   "metadata": {},
   "outputs": [],
   "source": [
    "from zipfile import ZipFile\n",
    "import os\n",
    "import urllib\n",
    "import urllib.request\n",
    "import cv2\n",
    "\n",
    "import numpy as np\n",
    "import matplotlib.pyplot as plt"
   ]
  },
  {
   "cell_type": "code",
   "execution_count": null,
   "id": "39f48f96-1779-42a7-b153-48904c170a20",
   "metadata": {},
   "outputs": [],
   "source": [
    "'''\n",
    "Download the compressed data (if the files is absent under the given path) \n",
    "using the urllib, a standard Py library\n",
    "'''\n",
    "\n",
    "URL = 'https://nnfs.io/datasets/fashion_mnist_images.zip'\n",
    "FILE = 'fashion_mnist_images.zip'\n",
    "FOLDER = 'fashion_mnist_images'\n",
    "\n",
    "\n",
    "# Unzip files \n",
    "if not os.path.isfile(FILE):\n",
    "    print(f'Downloading {URL} and saving as {FILE}...')\n",
    "    urllib.request.urlretrieve(URL, FILE)\n",
    "print('Unzipping images...') \n",
    "\n",
    "# with is a keyword that opens and close file\n",
    "with ZipFile(FILE) as zip_images: \n",
    "    zip_images.extractall(FOLDER)\n",
    "print('Done!')"
   ]
  },
  {
   "cell_type": "markdown",
   "id": "84d44175-53e2-4f81-ae98-8d823e1e27d3",
   "metadata": {},
   "source": [
    "## Data loading"
   ]
  },
  {
   "cell_type": "code",
   "execution_count": 2,
   "id": "6ada421a-7491-40ac-884a-2bb4349e429b",
   "metadata": {},
   "outputs": [
    {
     "name": "stdout",
     "output_type": "stream",
     "text": [
      "labels :  ['9', '0', '7', '6', '1', '8', '4', '3', '2', '5']\n",
      "image_data2 :  (28, 28) <class 'numpy.ndarray'> \n",
      " [[  0   0   0   0   0   0   0   0   0   0   0   0   0   0   0   0   0   0   0   0   0   0   0   0   0   0   0   0]\n",
      " [  0   0   0   0   0   0   0   0   0   0   0   0   0   0   0   0   0   0   0   0   0   0   0   0   0   0   0   0]\n",
      " [  0   0   0   0   0   0   0   0   0   0   0   0   0   0   0   0   0   0   0   0   0   0   0   0   0   0   0   0]\n",
      " [  0   0   0   0   0   0   0   0   0   0   0   0   0   0   0   0   0   0   0   0   0   0   0   0   0   0   0   0]\n",
      " [  0   0   0   0   0   0   0   0   0   0   0   0   0   0   0   0   0   0   0   0   0   0   0   0   0   0   0   0]\n",
      " [  0   0   0   0   0   0   0   0   0   0   0   0   0   0   0   0   0   0   0   0   0   0   0   0   0   0   0   0]\n",
      " [  0   0   0   0   0   0   0   0   0   0   0   0   0   0   0   0   0   0   0   0   0   0   0   0   0   0   0   0]\n",
      " [  0   0   0   0   0   0   0   0   0   0   0   0   0   1   0   0   0  49 135 182 150  59   0   0   0   0   0   0]\n",
      " [  0   0   0   0   0   0   0   0   0   0   0   0   0   0   0   0  78 255 220 212 219 255 246 191 155  87   0   0]\n",
      " [  0   0   0   0   0   0   0   0   0   0   0   0   1   0   0  57 206 215 203 191 203 212 216 217 220 211  15   0]\n",
      " [  0   0   0   0   0   0   0   0   0   0   1   0   0   0  58 231 220 210 199 209 218 218 217 208 200 215  56   0]\n",
      " [  0   0   0   0   1   2   0   0   4   0   0   0   0 145 213 207 199 187 203 210 216 217 215 215 206 215 130   0]\n",
      " [  0   0   0   0   1   2   4   0   0   0   3 105 225 205 190 201 210 214 213 215 215 212 211 208 205 207 218   0]\n",
      " [  1   5   7   0   0   0   0   0  52 162 217 189 174 157 187 198 202 217 220 223 224 222 217 211 217 201 247  65]\n",
      " [  0   0   0   0   0   0  21  72 185 189 171 171 185 203 200 207 208 209 214 219 222 222 224 215 218 211 212 148]\n",
      " [  0  70 114 129 145 159 179 196 172 176 185 196 199 206 201 210 212 213 216 218 219 217 212 207 208 200 198 173]\n",
      " [  0 122 158 184 194 192 193 196 203 209 211 211 215 218 221 222 226 227 227 226 226 223 222 216 211 208 216 185]\n",
      " [ 21   0   0  12  48  82 123 152 170 184 195 211 225 232 233 237 242 242 240 240 238 236 222 209 200 193 185 106]\n",
      " [ 26  47  54  18   5   0   0   0   0   0   0   0   0   0   2   4   6   9   9   8   9   6   6   4   2   0   0   0]\n",
      " [  0  10  27  45  55  59  57  50  44  51  58  62  65  56  54  57  59  61  60  63  68  67  66  73  77  74  65  39]\n",
      " [  0   0   0   0   4   9  18  23  26  25  23  25  29  37  38  37  39  36  29  31  33  34  28  24  20  14   7   0]\n",
      " [  0   0   0   0   0   0   0   0   0   0   0   0   0   0   0   0   0   0   0   0   0   0   0   0   0   0   0   0]\n",
      " [  0   0   0   0   0   0   0   0   0   0   0   0   0   0   0   0   0   0   0   0   0   0   0   0   0   0   0   0]\n",
      " [  0   0   0   0   0   0   0   0   0   0   0   0   0   0   0   0   0   0   0   0   0   0   0   0   0   0   0   0]\n",
      " [  0   0   0   0   0   0   0   0   0   0   0   0   0   0   0   0   0   0   0   0   0   0   0   0   0   0   0   0]\n",
      " [  0   0   0   0   0   0   0   0   0   0   0   0   0   0   0   0   0   0   0   0   0   0   0   0   0   0   0   0]\n",
      " [  0   0   0   0   0   0   0   0   0   0   0   0   0   0   0   0   0   0   0   0   0   0   0   0   0   0   0   0]\n",
      " [  0   0   0   0   0   0   0   0   0   0   0   0   0   0   0   0   0   0   0   0   0   0   0   0   0   0   0   0]]\n"
     ]
    }
   ],
   "source": [
    "labels = os.listdir('fashion_mnist_images/train')\n",
    "print('labels : ', labels)\n",
    "\n",
    "files = os.listdir('fashion_mnist_images/train/0')\n",
    "# print('\\ntotal #imgs in 0', len(files), '\\nall imgs in 0 : \\n', files)\n",
    "# print('\\nset of imgs in 0 : ', files[:10])\n",
    "\n",
    "image_data1 = cv2.imread('fashion_mnist_images/train/7/0002.png')\n",
    "# print(\"image_data1 : \", image_data1)\n",
    "\n",
    "# cv2.IMREAD_UNCHANGED, argument notifies the cv2 package that we intend to read in these images \n",
    "# in the same format as they were saved (grayscale in this case)\n",
    "image_data2 = cv2.imread('fashion_mnist_images/train/7/0002.png', cv2.IMREAD_UNCHANGED)\n",
    "\n",
    "# see all characters in that one line that should be there; break new row\n",
    "np.set_printoptions(linewidth=200)\n",
    "print(\"image_data2 : \", np.shape(image_data2), type(image_data2), \"\\n\", image_data2) \n"
   ]
  },
  {
   "cell_type": "code",
   "execution_count": null,
   "id": "45e2fb9d-73ec-4c82-8a4b-42ea8737f9e1",
   "metadata": {},
   "outputs": [],
   "source": []
  },
  {
   "cell_type": "code",
   "execution_count": null,
   "id": "da82e2fe-e36e-40ff-8f88-44a40e75ecac",
   "metadata": {},
   "outputs": [],
   "source": []
  }
 ],
 "metadata": {
  "kernelspec": {
   "display_name": "Python 3",
   "language": "python",
   "name": "python3"
  },
  "language_info": {
   "codemirror_mode": {
    "name": "ipython",
    "version": 3
   },
   "file_extension": ".py",
   "mimetype": "text/x-python",
   "name": "python",
   "nbconvert_exporter": "python",
   "pygments_lexer": "ipython3",
   "version": "3.7.5"
  }
 },
 "nbformat": 4,
 "nbformat_minor": 5
}

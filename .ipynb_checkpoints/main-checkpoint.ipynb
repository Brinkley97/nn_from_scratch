{
 "cells": [
  {
   "cell_type": "markdown",
   "id": "3c2542dd-5296-4873-b3f7-7f545e32e59a",
   "metadata": {},
   "source": [
    "# Full Code"
   ]
  },
  {
   "cell_type": "code",
   "execution_count": 10,
   "id": "3699683f-65f0-4cb3-a66f-8dc623f5f90b",
   "metadata": {},
   "outputs": [],
   "source": [
    "import numpy as np\n",
    "import nnfs\n",
    "from nnfs.datasets import spiral_data\n",
    "import matplotlib.pyplot as plt\n",
    "nnfs.init()"
   ]
  },
  {
   "cell_type": "code",
   "execution_count": 38,
   "id": "0a0102b1-c2f3-4828-9d3f-1a9784bc07c4",
   "metadata": {},
   "outputs": [],
   "source": [
    "\"\"\"\n",
    "3\n",
    "\"\"\" \n",
    "# Dense layer\n",
    "class Layer_Dense:\n",
    "    \n",
    "    # Layer initialization\n",
    "    def __init__(self, n_inputs, n_neurons):\n",
    "        # Initialize weights and biases\n",
    "        self.weights = 0.01 * np.random.randn(n_inputs, n_neurons)\n",
    "        print(\"self.weights shape : \", np.shape(self.weights))\n",
    "        # Row vector \n",
    "        self.biases = np.zeros((1, n_neurons))\n",
    "        print(\"self.biases shape : \", np.shape(self.biases))\n",
    "    \n",
    "    # Forward pass\n",
    "    def forward(self, inputs):\n",
    "        print(\"inputs shape : \", np.shape(inputs))\n",
    "        self.output = np.dot(inputs, self.weights) + self.biases\n",
    "        print(\"self.output Dense shape : \", np.shape(self.output))"
   ]
  },
  {
   "cell_type": "code",
   "execution_count": 39,
   "id": "5178210d-4c39-42d0-8285-810a4d69b440",
   "metadata": {},
   "outputs": [],
   "source": [
    "\"\"\"\n",
    "4\n",
    "\"\"\"\n",
    "# ReLU activation\n",
    "class Activation_ReLU:\n",
    "    \n",
    "    # Forward pass\n",
    "    def forward(self, inputs):\n",
    "        # why inputs?\n",
    "        self.output = np.maximum(0, inputs)\n",
    "        print(\"self.output ReLU shape : \", np.shape(self.output))"
   ]
  },
  {
   "cell_type": "code",
   "execution_count": 40,
   "id": "924d587f-8eb1-4da0-8497-5b8ad13b7964",
   "metadata": {},
   "outputs": [],
   "source": [
    "\"\"\"\n",
    "4\n",
    "\"\"\"\n",
    "# Softmax activation\n",
    "class Activation_Softmax:\n",
    "    \n",
    "    # Forward pass\n",
    "    def forward(self, inputs):\n",
    "        \n",
    "        # Get unnormalized probabilities\n",
    "        exp_values = np.exp(inputs - np.max(inputs, axis=1, keepdims=True))\n",
    "        \n",
    "        # Normalize them for each samples\n",
    "        probabilities = exp_values / np.sum(exp_values, axis=1, keepdims=True)\n",
    "        \n",
    "        self.output = probabilities\n",
    "        print(\"self.output Softmax shape : \", np.shape(self.output))"
   ]
  },
  {
   "cell_type": "code",
   "execution_count": 41,
   "id": "a2cde030-f402-4ce7-8b5f-8ddf74471a4a",
   "metadata": {},
   "outputs": [
    {
     "name": "stdout",
     "output_type": "stream",
     "text": [
      "self.weights shape :  (2, 3)\n",
      "self.biases shape :  (1, 3)\n",
      "self.weights shape :  (3, 3)\n",
      "self.biases shape :  (1, 3)\n",
      "inputs shape :  (3, 2)\n",
      "self.output Dense shape :  (3, 3)\n",
      "self.output ReLU shape :  (3, 3)\n",
      "inputs shape :  (3, 3)\n",
      "self.output Dense shape :  (3, 3)\n",
      "self.output Softmax shape :  (3, 3)\n"
     ]
    }
   ],
   "source": [
    "# 3 - Create dataset; samples x classes = #total samples; it's saying we have x sample for each class\n",
    "X, y = spiral_data(samples=100, classes=3)\n",
    "\n",
    "# 3 - Create Dense layer w/ 2 input features and 3 output values\n",
    "dense1 = Layer_Dense(2, 3)\n",
    "\n",
    "# 4 - Create ReLU activation (to be used w/ Dense layer)\n",
    "    # Will use var later\n",
    "activation1 = Activation_ReLU()\n",
    "\n",
    "# 4 - Create second Dense layer w/ 3 input features (as it's the output\n",
    "# of the previous layer) and 3 output values\n",
    "dense2 = Layer_Dense(3, 3)\n",
    "\n",
    "# 4 - Create Softmax activation (to be used w/ Dense layer)\n",
    "activation2 = Activation_Softmax()\n",
    "\n",
    "# 3 - Call the forward func\n",
    "dense1.forward(X[:3])\n",
    "\n",
    "# 4 - Make a forward pass through activation function\n",
    "# it takes the output of first dense layer here\n",
    "# bc that's the ordering of the network\n",
    "activation1.forward(dense1.output)\n",
    "\n",
    "# 4 - # Make a forward pass through second Dense layer\n",
    "# it takes outputs of activation function of first layer as inputs \n",
    "dense2.forward(activation1.output)\n",
    "\n",
    "# 4 - Make a forward pass through activation function \n",
    "# it takes the output of second dense layer here \n",
    "activation2.forward(dense2.output)\n",
    "\n",
    "# Output of 1st 5 samples starting at index 0\n",
    "# print(activation2.output[:5])"
   ]
  },
  {
   "cell_type": "code",
   "execution_count": null,
   "id": "721d57ef-83e3-410e-a8f7-32cddb43ec54",
   "metadata": {},
   "outputs": [],
   "source": []
  },
  {
   "cell_type": "code",
   "execution_count": null,
   "id": "4b090f67-779b-4daa-8e76-109e211ffa28",
   "metadata": {},
   "outputs": [],
   "source": []
  }
 ],
 "metadata": {
  "kernelspec": {
   "display_name": "Python 3 (ipykernel)",
   "language": "python",
   "name": "python3"
  },
  "language_info": {
   "codemirror_mode": {
    "name": "ipython",
    "version": 3
   },
   "file_extension": ".py",
   "mimetype": "text/x-python",
   "name": "python",
   "nbconvert_exporter": "python",
   "pygments_lexer": "ipython3",
   "version": "3.9.7"
  }
 },
 "nbformat": 4,
 "nbformat_minor": 5
}
